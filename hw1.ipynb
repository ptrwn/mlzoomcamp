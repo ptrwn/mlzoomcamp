{
 "cells": [
  {
   "cell_type": "code",
   "execution_count": 1,
   "id": "13bb3c89",
   "metadata": {},
   "outputs": [],
   "source": [
    "import pandas as pd"
   ]
  },
  {
   "cell_type": "code",
   "execution_count": null,
   "id": "cc182501",
   "metadata": {},
   "outputs": [],
   "source": [
    "url = \"https://raw.githubusercontent.com/alexeygrigorev/datasets/master/car_fuel_efficiency.csv\"\n",
    "df = pd.read_csv(url)"
   ]
  },
  {
   "cell_type": "code",
   "execution_count": 3,
   "id": "48f61d02",
   "metadata": {},
   "outputs": [
    {
     "data": {
      "text/plain": [
       "(9704, 11)"
      ]
     },
     "execution_count": 3,
     "metadata": {},
     "output_type": "execute_result"
    }
   ],
   "source": [
    "df.shape"
   ]
  },
  {
   "cell_type": "code",
   "execution_count": 8,
   "id": "9e709b52",
   "metadata": {},
   "outputs": [
    {
     "data": {
      "application/vnd.microsoft.datawrangler.viewer.v0+json": {
       "columns": [
        {
         "name": "index",
         "rawType": "int64",
         "type": "integer"
        },
        {
         "name": "engine_displacement",
         "rawType": "int64",
         "type": "integer"
        },
        {
         "name": "num_cylinders",
         "rawType": "float64",
         "type": "float"
        },
        {
         "name": "horsepower",
         "rawType": "float64",
         "type": "float"
        },
        {
         "name": "vehicle_weight",
         "rawType": "float64",
         "type": "float"
        },
        {
         "name": "acceleration",
         "rawType": "float64",
         "type": "float"
        },
        {
         "name": "model_year",
         "rawType": "int64",
         "type": "integer"
        },
        {
         "name": "origin",
         "rawType": "object",
         "type": "string"
        },
        {
         "name": "fuel_type",
         "rawType": "object",
         "type": "string"
        },
        {
         "name": "drivetrain",
         "rawType": "object",
         "type": "string"
        },
        {
         "name": "num_doors",
         "rawType": "float64",
         "type": "float"
        },
        {
         "name": "fuel_efficiency_mpg",
         "rawType": "float64",
         "type": "float"
        }
       ],
       "ref": "1c42db8f-8bc9-4cf2-a9b7-0ef3f39ef2e9",
       "rows": [
        [
         "9079",
         "130",
         "6.0",
         "191.0",
         "3360.2952921497763",
         "12.7",
         "2022",
         "Europe",
         "Diesel",
         "All-wheel drive",
         "1.0",
         "13.632571634723938"
        ],
        [
         "5891",
         "230",
         "3.0",
         null,
         "2514.176099420215",
         null,
         "2015",
         "USA",
         "Gasoline",
         "Front-wheel drive",
         null,
         "18.033639900577683"
        ],
        [
         "9013",
         "160",
         "3.0",
         null,
         "3763.208180342458",
         "20.8",
         "2004",
         "Europe",
         "Diesel",
         "All-wheel drive",
         "1.0",
         "10.641949038494404"
        ],
        [
         "2477",
         "180",
         "5.0",
         "153.0",
         "2310.693217201378",
         null,
         "2010",
         "Asia",
         "Gasoline",
         "All-wheel drive",
         "1.0",
         "17.774210140870096"
        ],
        [
         "7115",
         "180",
         "5.0",
         "130.0",
         "3347.6655910994923",
         null,
         "2000",
         "USA",
         "Gasoline",
         "Front-wheel drive",
         "0.0",
         "13.44094192788504"
        ],
        [
         "5377",
         "300",
         "5.0",
         "145.0",
         "3443.5975632039126",
         "14.7",
         "2018",
         "Europe",
         "Gasoline",
         "All-wheel drive",
         "0.0",
         "12.33232006934232"
        ],
        [
         "2073",
         "160",
         "7.0",
         "99.0",
         "2959.1787088734163",
         "9.4",
         "2005",
         "USA",
         "Diesel",
         "Front-wheel drive",
         "-1.0",
         "15.238972703497309"
        ],
        [
         "3343",
         "240",
         "2.0",
         "161.0",
         "2301.926852433535",
         null,
         "2004",
         "USA",
         "Gasoline",
         "All-wheel drive",
         "0.0",
         "18.169279602006466"
        ],
        [
         "2793",
         "160",
         null,
         "163.0",
         "3760.446882785062",
         "14.4",
         "2004",
         "USA",
         "Gasoline",
         "Front-wheel drive",
         "-1.0",
         "11.346785402904551"
        ],
        [
         "811",
         "230",
         "4.0",
         "89.0",
         "3442.9161353448303",
         "13.7",
         "2010",
         "Asia",
         "Gasoline",
         "All-wheel drive",
         "0.0",
         "11.934600836859229"
        ]
       ],
       "shape": {
        "columns": 11,
        "rows": 10
       }
      },
      "text/html": [
       "<div>\n",
       "<style scoped>\n",
       "    .dataframe tbody tr th:only-of-type {\n",
       "        vertical-align: middle;\n",
       "    }\n",
       "\n",
       "    .dataframe tbody tr th {\n",
       "        vertical-align: top;\n",
       "    }\n",
       "\n",
       "    .dataframe thead th {\n",
       "        text-align: right;\n",
       "    }\n",
       "</style>\n",
       "<table border=\"1\" class=\"dataframe\">\n",
       "  <thead>\n",
       "    <tr style=\"text-align: right;\">\n",
       "      <th></th>\n",
       "      <th>engine_displacement</th>\n",
       "      <th>num_cylinders</th>\n",
       "      <th>horsepower</th>\n",
       "      <th>vehicle_weight</th>\n",
       "      <th>acceleration</th>\n",
       "      <th>model_year</th>\n",
       "      <th>origin</th>\n",
       "      <th>fuel_type</th>\n",
       "      <th>drivetrain</th>\n",
       "      <th>num_doors</th>\n",
       "      <th>fuel_efficiency_mpg</th>\n",
       "    </tr>\n",
       "  </thead>\n",
       "  <tbody>\n",
       "    <tr>\n",
       "      <th>9079</th>\n",
       "      <td>130</td>\n",
       "      <td>6.0</td>\n",
       "      <td>191.0</td>\n",
       "      <td>3360.295292</td>\n",
       "      <td>12.7</td>\n",
       "      <td>2022</td>\n",
       "      <td>Europe</td>\n",
       "      <td>Diesel</td>\n",
       "      <td>All-wheel drive</td>\n",
       "      <td>1.0</td>\n",
       "      <td>13.632572</td>\n",
       "    </tr>\n",
       "    <tr>\n",
       "      <th>5891</th>\n",
       "      <td>230</td>\n",
       "      <td>3.0</td>\n",
       "      <td>NaN</td>\n",
       "      <td>2514.176099</td>\n",
       "      <td>NaN</td>\n",
       "      <td>2015</td>\n",
       "      <td>USA</td>\n",
       "      <td>Gasoline</td>\n",
       "      <td>Front-wheel drive</td>\n",
       "      <td>NaN</td>\n",
       "      <td>18.033640</td>\n",
       "    </tr>\n",
       "    <tr>\n",
       "      <th>9013</th>\n",
       "      <td>160</td>\n",
       "      <td>3.0</td>\n",
       "      <td>NaN</td>\n",
       "      <td>3763.208180</td>\n",
       "      <td>20.8</td>\n",
       "      <td>2004</td>\n",
       "      <td>Europe</td>\n",
       "      <td>Diesel</td>\n",
       "      <td>All-wheel drive</td>\n",
       "      <td>1.0</td>\n",
       "      <td>10.641949</td>\n",
       "    </tr>\n",
       "    <tr>\n",
       "      <th>2477</th>\n",
       "      <td>180</td>\n",
       "      <td>5.0</td>\n",
       "      <td>153.0</td>\n",
       "      <td>2310.693217</td>\n",
       "      <td>NaN</td>\n",
       "      <td>2010</td>\n",
       "      <td>Asia</td>\n",
       "      <td>Gasoline</td>\n",
       "      <td>All-wheel drive</td>\n",
       "      <td>1.0</td>\n",
       "      <td>17.774210</td>\n",
       "    </tr>\n",
       "    <tr>\n",
       "      <th>7115</th>\n",
       "      <td>180</td>\n",
       "      <td>5.0</td>\n",
       "      <td>130.0</td>\n",
       "      <td>3347.665591</td>\n",
       "      <td>NaN</td>\n",
       "      <td>2000</td>\n",
       "      <td>USA</td>\n",
       "      <td>Gasoline</td>\n",
       "      <td>Front-wheel drive</td>\n",
       "      <td>0.0</td>\n",
       "      <td>13.440942</td>\n",
       "    </tr>\n",
       "    <tr>\n",
       "      <th>5377</th>\n",
       "      <td>300</td>\n",
       "      <td>5.0</td>\n",
       "      <td>145.0</td>\n",
       "      <td>3443.597563</td>\n",
       "      <td>14.7</td>\n",
       "      <td>2018</td>\n",
       "      <td>Europe</td>\n",
       "      <td>Gasoline</td>\n",
       "      <td>All-wheel drive</td>\n",
       "      <td>0.0</td>\n",
       "      <td>12.332320</td>\n",
       "    </tr>\n",
       "    <tr>\n",
       "      <th>2073</th>\n",
       "      <td>160</td>\n",
       "      <td>7.0</td>\n",
       "      <td>99.0</td>\n",
       "      <td>2959.178709</td>\n",
       "      <td>9.4</td>\n",
       "      <td>2005</td>\n",
       "      <td>USA</td>\n",
       "      <td>Diesel</td>\n",
       "      <td>Front-wheel drive</td>\n",
       "      <td>-1.0</td>\n",
       "      <td>15.238973</td>\n",
       "    </tr>\n",
       "    <tr>\n",
       "      <th>3343</th>\n",
       "      <td>240</td>\n",
       "      <td>2.0</td>\n",
       "      <td>161.0</td>\n",
       "      <td>2301.926852</td>\n",
       "      <td>NaN</td>\n",
       "      <td>2004</td>\n",
       "      <td>USA</td>\n",
       "      <td>Gasoline</td>\n",
       "      <td>All-wheel drive</td>\n",
       "      <td>0.0</td>\n",
       "      <td>18.169280</td>\n",
       "    </tr>\n",
       "    <tr>\n",
       "      <th>2793</th>\n",
       "      <td>160</td>\n",
       "      <td>NaN</td>\n",
       "      <td>163.0</td>\n",
       "      <td>3760.446883</td>\n",
       "      <td>14.4</td>\n",
       "      <td>2004</td>\n",
       "      <td>USA</td>\n",
       "      <td>Gasoline</td>\n",
       "      <td>Front-wheel drive</td>\n",
       "      <td>-1.0</td>\n",
       "      <td>11.346785</td>\n",
       "    </tr>\n",
       "    <tr>\n",
       "      <th>811</th>\n",
       "      <td>230</td>\n",
       "      <td>4.0</td>\n",
       "      <td>89.0</td>\n",
       "      <td>3442.916135</td>\n",
       "      <td>13.7</td>\n",
       "      <td>2010</td>\n",
       "      <td>Asia</td>\n",
       "      <td>Gasoline</td>\n",
       "      <td>All-wheel drive</td>\n",
       "      <td>0.0</td>\n",
       "      <td>11.934601</td>\n",
       "    </tr>\n",
       "  </tbody>\n",
       "</table>\n",
       "</div>"
      ],
      "text/plain": [
       "      engine_displacement  num_cylinders  horsepower  vehicle_weight  \\\n",
       "9079                  130            6.0       191.0     3360.295292   \n",
       "5891                  230            3.0         NaN     2514.176099   \n",
       "9013                  160            3.0         NaN     3763.208180   \n",
       "2477                  180            5.0       153.0     2310.693217   \n",
       "7115                  180            5.0       130.0     3347.665591   \n",
       "5377                  300            5.0       145.0     3443.597563   \n",
       "2073                  160            7.0        99.0     2959.178709   \n",
       "3343                  240            2.0       161.0     2301.926852   \n",
       "2793                  160            NaN       163.0     3760.446883   \n",
       "811                   230            4.0        89.0     3442.916135   \n",
       "\n",
       "      acceleration  model_year  origin fuel_type         drivetrain  \\\n",
       "9079          12.7        2022  Europe    Diesel    All-wheel drive   \n",
       "5891           NaN        2015     USA  Gasoline  Front-wheel drive   \n",
       "9013          20.8        2004  Europe    Diesel    All-wheel drive   \n",
       "2477           NaN        2010    Asia  Gasoline    All-wheel drive   \n",
       "7115           NaN        2000     USA  Gasoline  Front-wheel drive   \n",
       "5377          14.7        2018  Europe  Gasoline    All-wheel drive   \n",
       "2073           9.4        2005     USA    Diesel  Front-wheel drive   \n",
       "3343           NaN        2004     USA  Gasoline    All-wheel drive   \n",
       "2793          14.4        2004     USA  Gasoline  Front-wheel drive   \n",
       "811           13.7        2010    Asia  Gasoline    All-wheel drive   \n",
       "\n",
       "      num_doors  fuel_efficiency_mpg  \n",
       "9079        1.0            13.632572  \n",
       "5891        NaN            18.033640  \n",
       "9013        1.0            10.641949  \n",
       "2477        1.0            17.774210  \n",
       "7115        0.0            13.440942  \n",
       "5377        0.0            12.332320  \n",
       "2073       -1.0            15.238973  \n",
       "3343        0.0            18.169280  \n",
       "2793       -1.0            11.346785  \n",
       "811         0.0            11.934601  "
      ]
     },
     "execution_count": 8,
     "metadata": {},
     "output_type": "execute_result"
    }
   ],
   "source": [
    "df.sample(10)"
   ]
  },
  {
   "cell_type": "code",
   "execution_count": 5,
   "id": "8d04e11f",
   "metadata": {},
   "outputs": [
    {
     "data": {
      "application/vnd.microsoft.datawrangler.viewer.v0+json": {
       "columns": [
        {
         "name": "fuel_type",
         "rawType": "object",
         "type": "string"
        },
        {
         "name": "count",
         "rawType": "int64",
         "type": "integer"
        }
       ],
       "ref": "0bd420e3-7da0-44cb-90dc-b574a51bd4b5",
       "rows": [
        [
         "Gasoline",
         "4898"
        ],
        [
         "Diesel",
         "4806"
        ]
       ],
       "shape": {
        "columns": 1,
        "rows": 2
       }
      },
      "text/plain": [
       "fuel_type\n",
       "Gasoline    4898\n",
       "Diesel      4806\n",
       "Name: count, dtype: int64"
      ]
     },
     "execution_count": 5,
     "metadata": {},
     "output_type": "execute_result"
    }
   ],
   "source": [
    "df['fuel_type'].value_counts()"
   ]
  },
  {
   "cell_type": "code",
   "execution_count": 6,
   "id": "a0756989",
   "metadata": {},
   "outputs": [
    {
     "data": {
      "text/plain": [
       "np.int64(4)"
      ]
     },
     "execution_count": 6,
     "metadata": {},
     "output_type": "execute_result"
    }
   ],
   "source": [
    "df.isnull().any().sum()"
   ]
  },
  {
   "cell_type": "code",
   "execution_count": 9,
   "id": "6460c633",
   "metadata": {},
   "outputs": [],
   "source": [
    "df_asia = df[df['origin'] == 'Asia']"
   ]
  },
  {
   "cell_type": "code",
   "execution_count": 11,
   "id": "ed3c143b",
   "metadata": {},
   "outputs": [
    {
     "data": {
      "text/plain": [
       "23.759122836520497"
      ]
     },
     "execution_count": 11,
     "metadata": {},
     "output_type": "execute_result"
    }
   ],
   "source": [
    "max(df_asia['fuel_efficiency_mpg'])"
   ]
  },
  {
   "cell_type": "code",
   "execution_count": null,
   "id": "c7f9a20b",
   "metadata": {},
   "outputs": [
    {
     "name": "stdout",
     "output_type": "stream",
     "text": [
      "0.5187709081074016\n"
     ]
    }
   ],
   "source": [
    "import numpy as np\n",
    "\n",
    "df_asia = df[df[\"origin\"] == \"Asia\"]\n",
    "df_asia_subset = df_asia[[\"vehicle_weight\", \"model_year\"]]\n",
    "df_asia_7 = df_asia_subset.head(7)\n",
    "X = df_asia_7.values\n",
    "XTX = X.T @ X\n",
    "XTX_inv = np.linalg.inv(XTX)\n",
    "y = np.array([1100, 1300, 800, 900, 1000, 1100, 1200])\n",
    "w = XTX_inv @ X.T @ y\n",
    "print(w.sum())\n"
   ]
  },
  {
   "cell_type": "code",
   "execution_count": null,
   "id": "bca001b0",
   "metadata": {},
   "outputs": [],
   "source": []
  }
 ],
 "metadata": {
  "kernelspec": {
   "display_name": "venv-ml-zoomcamp",
   "language": "python",
   "name": "python3"
  },
  "language_info": {
   "codemirror_mode": {
    "name": "ipython",
    "version": 3
   },
   "file_extension": ".py",
   "mimetype": "text/x-python",
   "name": "python",
   "nbconvert_exporter": "python",
   "pygments_lexer": "ipython3",
   "version": "3.11.0rc1"
  }
 },
 "nbformat": 4,
 "nbformat_minor": 5
}
